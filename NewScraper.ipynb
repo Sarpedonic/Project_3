{
 "metadata": {
  "language_info": {
   "codemirror_mode": {
    "name": "ipython",
    "version": 3
   },
   "file_extension": ".py",
   "mimetype": "text/x-python",
   "name": "python",
   "nbconvert_exporter": "python",
   "pygments_lexer": "ipython3",
   "version": "3.8.5-final"
  },
  "orig_nbformat": 2,
  "kernelspec": {
   "name": "python3",
   "display_name": "Python 3",
   "language": "python"
  }
 },
 "nbformat": 4,
 "nbformat_minor": 2,
 "cells": [
  {
   "cell_type": "code",
   "execution_count": 5,
   "metadata": {},
   "outputs": [],
   "source": [
    "import pandas as pd\n",
    "import numpy as np\n",
    "from bs4 import BeautifulSoup\n",
    "import requests"
   ]
  },
  {
   "cell_type": "code",
   "execution_count": 161,
   "metadata": {},
   "outputs": [],
   "source": [
    "#Define functions that identify each variable that we will be using. \n",
    "#Date function will be indexed after all season data is present.\n",
    "\n",
    "#Define Player Name function\n",
    "def PName(matches):\n",
    "    PName = []\n",
    "    for leg in matches:\n",
    "        if leg[0][0] == 0:\n",
    "            PName.append(leg[0][1])\n",
    "        else:\n",
    "            PName.append(leg[0][2])\n",
    "    return PName\n",
    "\n",
    "#Define Leg Code function\n",
    "def LegCode(matches):\n",
    "    LegCode = []\n",
    "    for leg in matches:\n",
    "        if leg[0][0] != 0:\n",
    "            thisleg = leg[0][0]\n",
    "            LegCode.append(leg[0][0])\n",
    "        else:\n",
    "            LegCode.append(thisleg)\n",
    "    return LegCode\n",
    "\n",
    "#Define Game Name function\n",
    "def Game(matches):\n",
    "    Game = []\n",
    "    for leg in matches:\n",
    "        if leg[0][0] != 0:\n",
    "            thisgame = leg[0][1]\n",
    "            Game.append(leg[0][1])\n",
    "        else:\n",
    "            Game.append(thisgame)\n",
    "    return Game\n",
    "\n",
    "#Define Player 3 Dart Average function\n",
    "def P3DA(matches):\n",
    "    P3DA = []\n",
    "    for leg in matches:\n",
    "        if leg[0][0] != 0:\n",
    "            P3DA.append(leg[0][5])\n",
    "        elif (leg[0][0] == 0) & (leg[0][4] == 0):\n",
    "            P3DA.append(leg[0][2])\n",
    "        else:\n",
    "            P3DA.append(leg[0][4])\n",
    "    for avg in P3DA:\n",
    "        #301 legs with a zero average sometimes return cork value\n",
    "        if (avg == 'C') or (avg == 'S'):\n",
    "            avg = 0\n",
    "    return P3DA\n",
    "\n",
    "#Define Leg Win Function\n",
    "def LegWin(matches):\n",
    "    LegWin = []\n",
    "    for leg in matches:\n",
    "        if leg[0][0] != 0:\n",
    "            LegWin.append(leg[0][9])\n",
    "        elif (leg[0][0] == 0) & (leg[0][4] == 0):\n",
    "            LegWin.append(leg[0][6])\n",
    "        else:\n",
    "            LegWin.append(leg[0][8])\n",
    "    return LegWin\n",
    "\n",
    "#Define darts thrown function\n",
    "def dartsthrown(matches):\n",
    "    dt = []\n",
    "    for leg in matches:\n",
    "        dt.append(leg[0][-7])\n",
    "    return dt\n",
    "\n",
    "#Define points/marks function\n",
    "def ptsmks(matches):\n",
    "    scores = []\n",
    "    for leg in matches:\n",
    "        if leg[0][-5] != 0:\n",
    "            mk = leg[0][-5].replace(\"M\",\"\")\n",
    "            scores.append(int(mk))\n",
    "        else:\n",
    "            scores.append(int(leg[0][-6]))\n",
    "    return scores\n",
    "\n",
    "#Define turn sequence function\n",
    "def turnseq(matches):\n",
    "    turns = []\n",
    "    for leg in matches:\n",
    "        try:\n",
    "            turns.append(leg[0][-14])\n",
    "        except IndexError:\n",
    "            turns.append('?')\n",
    "    return turns\n"
   ]
  },
  {
   "cell_type": "code",
   "execution_count": 7,
   "metadata": {},
   "outputs": [],
   "source": [
    "#Leg set function, fill zeroes for blanks\n",
    "def leggify(x):\n",
    "    gmst = []\n",
    "    for i in x:\n",
    "        if (i.text == '') or (i.text == '\\xa0'):\n",
    "            gmst.append(0)\n",
    "        else:\n",
    "            gmst.append(i.get_text())\n",
    "    return gmst"
   ]
  },
  {
   "cell_type": "code",
   "execution_count": 190,
   "metadata": {},
   "outputs": [],
   "source": [
    "#Define the function that takes the ID of a match and then derives the game table \n",
    "\n",
    "def MatchTable(match):\n",
    "    mitch = str(match)\n",
    "    matchloc = 'https://members.dartconnect.com/history/report/players/match/' + str(match)\n",
    "    summaryloc = 'https://members.dartconnect.com/history/report/match/' + str(match)\n",
    "    matchpage = requests.get(matchloc)\n",
    "    summarypage = requests.get(summaryloc)\n",
    "    soup = BeautifulSoup(matchpage.text, 'lxml')\n",
    "    psoup = BeautifulSoup(summarypage.text, 'lxml')\n",
    "    \n",
    "    #Find and set the date string\n",
    "    datematch = soup.h2.next_element.next_element\n",
    "    daydate = datematch.td.text\n",
    "    day = daydate[0:3]\n",
    "    pdate = daydate[-8:]\n",
    "    if (pdate[0] == \",\"):\n",
    "        date = pdate[1:]\n",
    "    else:\n",
    "        date = pdate\n",
    "        \n",
    "    #Identify game detail table\n",
    "    game_pp = soup.find(class_=\"freeTable playerPref\")    \n",
    "    \n",
    "    #Break table into rows\n",
    "    rows = [row for row in game_pp.find_all(\"tr\")]\n",
    "    \n",
    "    #Call leg set function for all legs\n",
    "    all_legs = []\n",
    "    for row in rows[1:]:\n",
    "        rowset = row.find_all('td')\n",
    "        pleg = [leggify(rowset)]\n",
    "        all_legs.append(pleg)\n",
    "\n",
    "    #Remove match separator rows\n",
    "    for leg in all_legs:\n",
    "        if (leg[0][1] == 0):\n",
    "            all_legs.remove(leg)\n",
    "    \n",
    "    #Team roster and team name definitions\n",
    "    teams = psoup.find_all(class_=\"playerNameHeader\")\n",
    "    team1 = [teams[0].text]\n",
    "    team2 = [teams[1].text]\n",
    "    tm1nm = teams[0].text\n",
    "    tm2nm = teams[1].text\n",
    "\n",
    "    #Refer to table data on summary page\n",
    "    homaw = psoup.find_all('td', text=True)\n",
    "\n",
    "    #Get last 40 and define excluded strings\n",
    "    homaw = homaw[-40::]\n",
    "    forbid = ['Premium', 'Recap Sent','Missing Email','Member','&nbsp']\n",
    "\n",
    "    #Team 2 roster construct\n",
    "    for pfind in homaw[::-1]:\n",
    "        row = pfind.text\n",
    "        if row in forbid:\n",
    "            continue\n",
    "        elif row == \"Away/Guest Players\":\n",
    "            break\n",
    "        else:\n",
    "            team2.append(row)\n",
    "            continue\n",
    "\n",
    "    #Team 1 roster construct        \n",
    "    for pfind in homaw[::-1]:\n",
    "        row = pfind.text\n",
    "        if (row in team2) or (row in forbid) or (row == 'Away/Guest Players'):\n",
    "            continue\n",
    "        elif row == \"Home/Host Players\":\n",
    "            break\n",
    "        else:\n",
    "            team1.append(row)\n",
    "\n",
    "    #Redundancy check\n",
    "    for player in team1:\n",
    "        if player in team2:\n",
    "            print(player, \"ON OTHER TEAM\")\n",
    "\n",
    "    #Add aliases to roster\n",
    "\n",
    "    #Find rows populated with player names in summary table\n",
    "    players = psoup.find_all('tr')\n",
    "    versus = []\n",
    "    for row in players:\n",
    "        opps = row.find_all(class_='playerName')\n",
    "        if (opps != []):\n",
    "            versus.append(opps)\n",
    "        else:\n",
    "            continue\n",
    "\n",
    "    #Differentiate between solo and partner matches, then divide players into teams\n",
    "    t1 = []\n",
    "    t2 = []\n",
    "    positcol = []\n",
    "    for match in versus:\n",
    "        if (len(match) == 2):\n",
    "            t1.append(match[0].text)\n",
    "            positcol.append('1')\n",
    "\n",
    "            t2.append(match[1].text)\n",
    "            positcol.append('2')\n",
    "\n",
    "        elif (len(match) == 4):\n",
    "            t1.append(match[0].text)\n",
    "            positcol.append('1')\n",
    "\n",
    "            t1.append(match[1].text)\n",
    "            positcol.append('2')\n",
    "\n",
    "            t2.append(match[2].text)\n",
    "            positcol.append('3')\n",
    "\n",
    "            t2.append(match[3].text)\n",
    "            positcol.append('4')\n",
    "\n",
    "        else:\n",
    "            print(\"I don't know who's playing this match.\")\n",
    "\n",
    "    #Generates tm1 and tm2 spaceless lists\n",
    "    tm1 = []\n",
    "    tm2 = []\n",
    "\n",
    "    #Spaceless from rosters\n",
    "    for p in team1:\n",
    "        p = \"\".join(p.split())\n",
    "        tm1.append(p)\n",
    "\n",
    "    for p in team2:\n",
    "        p = \"\".join(p.split())\n",
    "        tm2.append(p)\n",
    "\n",
    "    #Spaceless aliases from summary table\n",
    "    for t in t1:\n",
    "        t = \"\".join(t.split())\n",
    "        if t in tm1:\n",
    "            continue\n",
    "        else:\n",
    "            tm1.append(t)\n",
    "\n",
    "    for t in t2:\n",
    "        t = \"\".join(t.split())\n",
    "        if t in tm2:\n",
    "            continue\n",
    "        else:\n",
    "            tm2.append(t)\n",
    "\n",
    "    #Generate spaceless player list from PName function\n",
    "    all_players = PName(all_legs)\n",
    "    plyrlst = []\n",
    "\n",
    "    for playr in all_players:\n",
    "        playr = \"\".join(playr.split())\n",
    "        plyrlst.append(playr)\n",
    "\n",
    "    #Generates the 'Team' column for the dataframe\n",
    "    teamcol = []\n",
    "    homecol = []\n",
    "    for player in plyrlst:\n",
    "        if player in tm1:\n",
    "            teamcol.append(tm1nm)\n",
    "            homecol.append('Home')\n",
    "        elif player in tm2:\n",
    "            teamcol.append(tm2nm)\n",
    "            homecol.append('Away')\n",
    "        else:\n",
    "            teamcol.append('Mysterious Ronin')\n",
    "            homecol.append('Ronin')\n",
    "            print(player, \"not found on any team.\")\n",
    "            \n",
    "    #Construct game table for match\n",
    "    gametable = pd.DataFrame(\n",
    "            {\n",
    "                \"Team\": teamcol,\n",
    "                \"Date\": date,\n",
    "                \"Home/Away\": homecol,\n",
    "                \"Leg_Code\": LegCode(all_legs),\n",
    "                \"Game\": Game(all_legs),\n",
    "                \"3DA\": pd.Series(P3DA(all_legs)),\n",
    "                \"Player\": PName(all_legs),\n",
    "                \"W/A\": LegWin(all_legs),\n",
    "                \"Darts_Thrown\": dartsthrown(all_legs),\n",
    "                \"Points/Marks\": ptsmks(all_legs),\n",
    "                \"Turn_Sequence\": turnseq(all_legs),\n",
    "                \"Match\": mitch\n",
    "            })\n",
    "    \n",
    "    return gametable"
   ]
  },
  {
   "cell_type": "code",
   "execution_count": 49,
   "metadata": {},
   "outputs": [],
   "source": [
    "matches = pd.read_csv(\"Data/WCD-20W-Matches.csv\")"
   ]
  },
  {
   "cell_type": "code",
   "execution_count": 30,
   "metadata": {},
   "outputs": [
    {
     "output_type": "execute_result",
     "data": {
      "text/plain": [
       "     Unnamed: 0                         0\n",
       "0             0  5e1e73504a6ca334944cddae\n",
       "1             1  5e27aec32cba526823fc6a55\n",
       "2             2  5e30e2644e062202124a9e84\n",
       "3             3  5e3a2528b274ba05c62721d8\n",
       "4             4  5e435cd9053d5933ff6a5d36\n",
       "..          ...                       ...\n",
       "186         186  5e435b72053d5933ff6a5b77\n",
       "187         187  5e30ea924e062202124aa7c7\n",
       "188         188  5e435ff5053d5933ff6a610c\n",
       "189         189  5e1e76604a6ca334944ce09c\n",
       "190         190  5e4c98a53bd5632f1d4b7926\n",
       "\n",
       "[191 rows x 2 columns]"
      ],
      "text/html": "<div>\n<style scoped>\n    .dataframe tbody tr th:only-of-type {\n        vertical-align: middle;\n    }\n\n    .dataframe tbody tr th {\n        vertical-align: top;\n    }\n\n    .dataframe thead th {\n        text-align: right;\n    }\n</style>\n<table border=\"1\" class=\"dataframe\">\n  <thead>\n    <tr style=\"text-align: right;\">\n      <th></th>\n      <th>Unnamed: 0</th>\n      <th>0</th>\n    </tr>\n  </thead>\n  <tbody>\n    <tr>\n      <th>0</th>\n      <td>0</td>\n      <td>5e1e73504a6ca334944cddae</td>\n    </tr>\n    <tr>\n      <th>1</th>\n      <td>1</td>\n      <td>5e27aec32cba526823fc6a55</td>\n    </tr>\n    <tr>\n      <th>2</th>\n      <td>2</td>\n      <td>5e30e2644e062202124a9e84</td>\n    </tr>\n    <tr>\n      <th>3</th>\n      <td>3</td>\n      <td>5e3a2528b274ba05c62721d8</td>\n    </tr>\n    <tr>\n      <th>4</th>\n      <td>4</td>\n      <td>5e435cd9053d5933ff6a5d36</td>\n    </tr>\n    <tr>\n      <th>...</th>\n      <td>...</td>\n      <td>...</td>\n    </tr>\n    <tr>\n      <th>186</th>\n      <td>186</td>\n      <td>5e435b72053d5933ff6a5b77</td>\n    </tr>\n    <tr>\n      <th>187</th>\n      <td>187</td>\n      <td>5e30ea924e062202124aa7c7</td>\n    </tr>\n    <tr>\n      <th>188</th>\n      <td>188</td>\n      <td>5e435ff5053d5933ff6a610c</td>\n    </tr>\n    <tr>\n      <th>189</th>\n      <td>189</td>\n      <td>5e1e76604a6ca334944ce09c</td>\n    </tr>\n    <tr>\n      <th>190</th>\n      <td>190</td>\n      <td>5e4c98a53bd5632f1d4b7926</td>\n    </tr>\n  </tbody>\n</table>\n<p>191 rows × 2 columns</p>\n</div>"
     },
     "metadata": {},
     "execution_count": 30
    }
   ],
   "source": [
    "matches"
   ]
  },
  {
   "cell_type": "code",
   "execution_count": 169,
   "metadata": {},
   "outputs": [],
   "source": [
    "m = MatchTable('5e1e73504a6ca334944cddae')"
   ]
  },
  {
   "cell_type": "code",
   "execution_count": 128,
   "metadata": {},
   "outputs": [],
   "source": [
    "def dartsthrown(matches):\n",
    "    dt = []\n",
    "    for leg in matches:\n",
    "        dt.append(leg[0][-7])\n",
    "    return dt"
   ]
  },
  {
   "cell_type": "code",
   "execution_count": 159,
   "metadata": {},
   "outputs": [],
   "source": [
    "def turnseq(matches):\n",
    "    turns = []\n",
    "    for leg in matches:\n",
    "        try:\n",
    "            turns.append(leg[0][-14])\n",
    "        except IndexError:\n",
    "            turns.append('?')\n",
    "    return turns"
   ]
  },
  {
   "cell_type": "code",
   "execution_count": 155,
   "metadata": {},
   "outputs": [],
   "source": [
    "def ptsmks(matches):\n",
    "    scores = []\n",
    "    for leg in matches:\n",
    "        if leg[0][-5] != 0:\n",
    "            mk = leg[0][-5].replace(\"M\",\"\")\n",
    "            scores.append(int(mk))\n",
    "        else:\n",
    "            scores.append(int(leg[0][-6]))\n",
    "    return scores"
   ]
  },
  {
   "source": [
    "## Start of Season Scraping Activity"
   ],
   "cell_type": "markdown",
   "metadata": {}
  },
  {
   "cell_type": "code",
   "execution_count": 241,
   "metadata": {},
   "outputs": [],
   "source": [
    "#Input season match data\n",
    "seasonmatch = pd.read_csv('Data/WCD-16S-Matches.csv')\n",
    "seasonmatch = seasonmatch['0']"
   ]
  },
  {
   "cell_type": "code",
   "execution_count": 242,
   "metadata": {},
   "outputs": [
    {
     "output_type": "execute_result",
     "data": {
      "text/plain": [
       "      index            Team      Date Home/Away Leg_Code      Game   3DA  \\\n",
       "0         0           Bacon    6-7-16      Home      1.1  501 SIDO  24.6   \n",
       "1         1     Motley Crew    6-7-16      Away      1.1  501 SIDO  24.4   \n",
       "2         2           Bacon    6-7-16      Home      1.2  501 SIDO  32.0   \n",
       "3         3     Motley Crew    6-7-16      Away      1.2  501 SIDO  30.8   \n",
       "4         4           Bacon    6-7-16      Home      2.1  301 DIDO  31.4   \n",
       "...     ...             ...       ...       ...      ...       ...   ...   \n",
       "5618     67       Dart Team   6-21-16      Away      9.2  501 SIDO  58.5   \n",
       "5619     68  The Thatch Pub   6-21-16      Home      9.3  501 SIDO  67.1   \n",
       "5620     69  The Thatch Pub   6-21-16      Home      9.3  501 SIDO  28.6   \n",
       "5621     70       Dart Team   6-21-16      Away      9.3  501 SIDO  62.6   \n",
       "5622     71       Dart Team   6-21-16      Away      9.3  501 SIDO  36.6   \n",
       "\n",
       "                 Player W/A Darts_Thrown  Points/Marks Turn_Sequence  \\\n",
       "0          Jason Callan   W           61           501             1   \n",
       "1         Ken Molitoris   0           60           487             2   \n",
       "2          Jason Callan   W           47           501             2   \n",
       "3         Ken Molitoris   0           48           493             1   \n",
       "4            Kurt Nishi   A           15           157             2   \n",
       "...                 ...  ..          ...           ...           ...   \n",
       "5618        Kevin Kruse   0           12           234             4   \n",
       "5619  Brian DiCrescenzo   W           16           358             1   \n",
       "5620         Anne Quinn   A           15           143             3   \n",
       "5621         Mark Kokot   0           15           313             2   \n",
       "5622        Kevin Kruse   0           15           183             4   \n",
       "\n",
       "                         Match  \n",
       "0     57577da1c3cd6f0f304014b0  \n",
       "1     57577da1c3cd6f0f304014b0  \n",
       "2     57577da1c3cd6f0f304014b0  \n",
       "3     57577da1c3cd6f0f304014b0  \n",
       "4     57577da1c3cd6f0f304014b0  \n",
       "...                        ...  \n",
       "5618  5769eb6d4466ed176e203392  \n",
       "5619  5769eb6d4466ed176e203392  \n",
       "5620  5769eb6d4466ed176e203392  \n",
       "5621  5769eb6d4466ed176e203392  \n",
       "5622  5769eb6d4466ed176e203392  \n",
       "\n",
       "[5623 rows x 13 columns]"
      ],
      "text/html": "<div>\n<style scoped>\n    .dataframe tbody tr th:only-of-type {\n        vertical-align: middle;\n    }\n\n    .dataframe tbody tr th {\n        vertical-align: top;\n    }\n\n    .dataframe thead th {\n        text-align: right;\n    }\n</style>\n<table border=\"1\" class=\"dataframe\">\n  <thead>\n    <tr style=\"text-align: right;\">\n      <th></th>\n      <th>index</th>\n      <th>Team</th>\n      <th>Date</th>\n      <th>Home/Away</th>\n      <th>Leg_Code</th>\n      <th>Game</th>\n      <th>3DA</th>\n      <th>Player</th>\n      <th>W/A</th>\n      <th>Darts_Thrown</th>\n      <th>Points/Marks</th>\n      <th>Turn_Sequence</th>\n      <th>Match</th>\n    </tr>\n  </thead>\n  <tbody>\n    <tr>\n      <th>0</th>\n      <td>0</td>\n      <td>Bacon</td>\n      <td>6-7-16</td>\n      <td>Home</td>\n      <td>1.1</td>\n      <td>501 SIDO</td>\n      <td>24.6</td>\n      <td>Jason Callan</td>\n      <td>W</td>\n      <td>61</td>\n      <td>501</td>\n      <td>1</td>\n      <td>57577da1c3cd6f0f304014b0</td>\n    </tr>\n    <tr>\n      <th>1</th>\n      <td>1</td>\n      <td>Motley Crew</td>\n      <td>6-7-16</td>\n      <td>Away</td>\n      <td>1.1</td>\n      <td>501 SIDO</td>\n      <td>24.4</td>\n      <td>Ken Molitoris</td>\n      <td>0</td>\n      <td>60</td>\n      <td>487</td>\n      <td>2</td>\n      <td>57577da1c3cd6f0f304014b0</td>\n    </tr>\n    <tr>\n      <th>2</th>\n      <td>2</td>\n      <td>Bacon</td>\n      <td>6-7-16</td>\n      <td>Home</td>\n      <td>1.2</td>\n      <td>501 SIDO</td>\n      <td>32.0</td>\n      <td>Jason Callan</td>\n      <td>W</td>\n      <td>47</td>\n      <td>501</td>\n      <td>2</td>\n      <td>57577da1c3cd6f0f304014b0</td>\n    </tr>\n    <tr>\n      <th>3</th>\n      <td>3</td>\n      <td>Motley Crew</td>\n      <td>6-7-16</td>\n      <td>Away</td>\n      <td>1.2</td>\n      <td>501 SIDO</td>\n      <td>30.8</td>\n      <td>Ken Molitoris</td>\n      <td>0</td>\n      <td>48</td>\n      <td>493</td>\n      <td>1</td>\n      <td>57577da1c3cd6f0f304014b0</td>\n    </tr>\n    <tr>\n      <th>4</th>\n      <td>4</td>\n      <td>Bacon</td>\n      <td>6-7-16</td>\n      <td>Home</td>\n      <td>2.1</td>\n      <td>301 DIDO</td>\n      <td>31.4</td>\n      <td>Kurt Nishi</td>\n      <td>A</td>\n      <td>15</td>\n      <td>157</td>\n      <td>2</td>\n      <td>57577da1c3cd6f0f304014b0</td>\n    </tr>\n    <tr>\n      <th>...</th>\n      <td>...</td>\n      <td>...</td>\n      <td>...</td>\n      <td>...</td>\n      <td>...</td>\n      <td>...</td>\n      <td>...</td>\n      <td>...</td>\n      <td>...</td>\n      <td>...</td>\n      <td>...</td>\n      <td>...</td>\n      <td>...</td>\n    </tr>\n    <tr>\n      <th>5618</th>\n      <td>67</td>\n      <td>Dart Team</td>\n      <td>6-21-16</td>\n      <td>Away</td>\n      <td>9.2</td>\n      <td>501 SIDO</td>\n      <td>58.5</td>\n      <td>Kevin Kruse</td>\n      <td>0</td>\n      <td>12</td>\n      <td>234</td>\n      <td>4</td>\n      <td>5769eb6d4466ed176e203392</td>\n    </tr>\n    <tr>\n      <th>5619</th>\n      <td>68</td>\n      <td>The Thatch Pub</td>\n      <td>6-21-16</td>\n      <td>Home</td>\n      <td>9.3</td>\n      <td>501 SIDO</td>\n      <td>67.1</td>\n      <td>Brian DiCrescenzo</td>\n      <td>W</td>\n      <td>16</td>\n      <td>358</td>\n      <td>1</td>\n      <td>5769eb6d4466ed176e203392</td>\n    </tr>\n    <tr>\n      <th>5620</th>\n      <td>69</td>\n      <td>The Thatch Pub</td>\n      <td>6-21-16</td>\n      <td>Home</td>\n      <td>9.3</td>\n      <td>501 SIDO</td>\n      <td>28.6</td>\n      <td>Anne Quinn</td>\n      <td>A</td>\n      <td>15</td>\n      <td>143</td>\n      <td>3</td>\n      <td>5769eb6d4466ed176e203392</td>\n    </tr>\n    <tr>\n      <th>5621</th>\n      <td>70</td>\n      <td>Dart Team</td>\n      <td>6-21-16</td>\n      <td>Away</td>\n      <td>9.3</td>\n      <td>501 SIDO</td>\n      <td>62.6</td>\n      <td>Mark Kokot</td>\n      <td>0</td>\n      <td>15</td>\n      <td>313</td>\n      <td>2</td>\n      <td>5769eb6d4466ed176e203392</td>\n    </tr>\n    <tr>\n      <th>5622</th>\n      <td>71</td>\n      <td>Dart Team</td>\n      <td>6-21-16</td>\n      <td>Away</td>\n      <td>9.3</td>\n      <td>501 SIDO</td>\n      <td>36.6</td>\n      <td>Kevin Kruse</td>\n      <td>0</td>\n      <td>15</td>\n      <td>183</td>\n      <td>4</td>\n      <td>5769eb6d4466ed176e203392</td>\n    </tr>\n  </tbody>\n</table>\n<p>5623 rows × 13 columns</p>\n</div>"
     },
     "metadata": {},
     "execution_count": 242
    }
   ],
   "source": [
    "\n",
    "#Get rid of matches not held on official league pages\n",
    "Season_Matches = []\n",
    "for match in seasonmatch:\n",
    "    if (len(match) > 9):\n",
    "        Season_Matches.append(match)\n",
    "\n",
    "#Assemble all season legs\n",
    "Season_Legs = []\n",
    "for match in Season_Matches:\n",
    "    Season_Legs.append(MatchTable(match))\n",
    "\n",
    "#Concatenate into a dataframe\n",
    "table = pd.concat(Season_Legs)\n",
    "table.reset_index()"
   ]
  },
  {
   "cell_type": "code",
   "execution_count": 243,
   "metadata": {},
   "outputs": [],
   "source": [
    "table['Season'] = 2016.2"
   ]
  },
  {
   "cell_type": "code",
   "execution_count": 244,
   "metadata": {},
   "outputs": [
    {
     "output_type": "execute_result",
     "data": {
      "text/plain": [
       "          Team     Date Home/Away Leg_Code      Game   3DA         Player W/A  \\\n",
       "0        Bacon   6-7-16      Home      1.1  501 SIDO  24.6   Jason Callan   W   \n",
       "1  Motley Crew   6-7-16      Away      1.1  501 SIDO  24.4  Ken Molitoris   0   \n",
       "2        Bacon   6-7-16      Home      1.2  501 SIDO  32.0   Jason Callan   W   \n",
       "3  Motley Crew   6-7-16      Away      1.2  501 SIDO  30.8  Ken Molitoris   0   \n",
       "4        Bacon   6-7-16      Home      2.1  301 DIDO  31.4     Kurt Nishi   A   \n",
       "\n",
       "  Darts_Thrown  Points/Marks Turn_Sequence                     Match  Season  \n",
       "0           61           501             1  57577da1c3cd6f0f304014b0  2016.2  \n",
       "1           60           487             2  57577da1c3cd6f0f304014b0  2016.2  \n",
       "2           47           501             2  57577da1c3cd6f0f304014b0  2016.2  \n",
       "3           48           493             1  57577da1c3cd6f0f304014b0  2016.2  \n",
       "4           15           157             2  57577da1c3cd6f0f304014b0  2016.2  "
      ],
      "text/html": "<div>\n<style scoped>\n    .dataframe tbody tr th:only-of-type {\n        vertical-align: middle;\n    }\n\n    .dataframe tbody tr th {\n        vertical-align: top;\n    }\n\n    .dataframe thead th {\n        text-align: right;\n    }\n</style>\n<table border=\"1\" class=\"dataframe\">\n  <thead>\n    <tr style=\"text-align: right;\">\n      <th></th>\n      <th>Team</th>\n      <th>Date</th>\n      <th>Home/Away</th>\n      <th>Leg_Code</th>\n      <th>Game</th>\n      <th>3DA</th>\n      <th>Player</th>\n      <th>W/A</th>\n      <th>Darts_Thrown</th>\n      <th>Points/Marks</th>\n      <th>Turn_Sequence</th>\n      <th>Match</th>\n      <th>Season</th>\n    </tr>\n  </thead>\n  <tbody>\n    <tr>\n      <th>0</th>\n      <td>Bacon</td>\n      <td>6-7-16</td>\n      <td>Home</td>\n      <td>1.1</td>\n      <td>501 SIDO</td>\n      <td>24.6</td>\n      <td>Jason Callan</td>\n      <td>W</td>\n      <td>61</td>\n      <td>501</td>\n      <td>1</td>\n      <td>57577da1c3cd6f0f304014b0</td>\n      <td>2016.2</td>\n    </tr>\n    <tr>\n      <th>1</th>\n      <td>Motley Crew</td>\n      <td>6-7-16</td>\n      <td>Away</td>\n      <td>1.1</td>\n      <td>501 SIDO</td>\n      <td>24.4</td>\n      <td>Ken Molitoris</td>\n      <td>0</td>\n      <td>60</td>\n      <td>487</td>\n      <td>2</td>\n      <td>57577da1c3cd6f0f304014b0</td>\n      <td>2016.2</td>\n    </tr>\n    <tr>\n      <th>2</th>\n      <td>Bacon</td>\n      <td>6-7-16</td>\n      <td>Home</td>\n      <td>1.2</td>\n      <td>501 SIDO</td>\n      <td>32.0</td>\n      <td>Jason Callan</td>\n      <td>W</td>\n      <td>47</td>\n      <td>501</td>\n      <td>2</td>\n      <td>57577da1c3cd6f0f304014b0</td>\n      <td>2016.2</td>\n    </tr>\n    <tr>\n      <th>3</th>\n      <td>Motley Crew</td>\n      <td>6-7-16</td>\n      <td>Away</td>\n      <td>1.2</td>\n      <td>501 SIDO</td>\n      <td>30.8</td>\n      <td>Ken Molitoris</td>\n      <td>0</td>\n      <td>48</td>\n      <td>493</td>\n      <td>1</td>\n      <td>57577da1c3cd6f0f304014b0</td>\n      <td>2016.2</td>\n    </tr>\n    <tr>\n      <th>4</th>\n      <td>Bacon</td>\n      <td>6-7-16</td>\n      <td>Home</td>\n      <td>2.1</td>\n      <td>301 DIDO</td>\n      <td>31.4</td>\n      <td>Kurt Nishi</td>\n      <td>A</td>\n      <td>15</td>\n      <td>157</td>\n      <td>2</td>\n      <td>57577da1c3cd6f0f304014b0</td>\n      <td>2016.2</td>\n    </tr>\n  </tbody>\n</table>\n</div>"
     },
     "metadata": {},
     "execution_count": 244
    }
   ],
   "source": [
    "table.head()"
   ]
  },
  {
   "cell_type": "code",
   "execution_count": 245,
   "metadata": {},
   "outputs": [],
   "source": [
    "table.to_csv('WCD2016-2.csv')"
   ]
  },
  {
   "source": [
    "## Start of Derive Features"
   ],
   "cell_type": "markdown",
   "metadata": {}
  },
  {
   "cell_type": "code",
   "execution_count": 246,
   "metadata": {},
   "outputs": [],
   "source": [
    "f19 = pd.read_csv(\"WCD2019-3.csv\")\n",
    "w20 = pd.read_csv(\"WCD2020-1.csv\")"
   ]
  },
  {
   "cell_type": "code",
   "execution_count": 248,
   "metadata": {},
   "outputs": [],
   "source": [
    "f19['TDA'] = (f19['Points/Marks'] / f19['Darts_Thrown']) * 3"
   ]
  },
  {
   "cell_type": "code",
   "execution_count": 254,
   "metadata": {},
   "outputs": [],
   "source": [
    "f19['Win'] = (f19['W/A'] != '0')"
   ]
  },
  {
   "cell_type": "code",
   "execution_count": 348,
   "metadata": {},
   "outputs": [],
   "source": [
    "f19['Set'] = pd.array(np.floor(f19['Leg_Code']), dtype=pd.Int64Dtype())"
   ]
  },
  {
   "cell_type": "code",
   "execution_count": 372,
   "metadata": {},
   "outputs": [],
   "source": [
    "#Problems with this Series. Had different values for what appeared to be the same. Round fixed.\n",
    "f19['Leg'] = pd.array(round((f19['Leg_Code']-f19['Set'])*10), dtype=pd.Int64Dtype())"
   ]
  },
  {
   "cell_type": "code",
   "execution_count": 362,
   "metadata": {},
   "outputs": [],
   "source": [
    "f19['Cork/Start'] = (f19['Turn_Sequence'] == 1) | (f19['Turn_Sequence'] == 3)"
   ]
  },
  {
   "cell_type": "code",
   "execution_count": 335,
   "metadata": {},
   "outputs": [],
   "source": [
    "f19['Home'] = f19['Home/Away'] == 'Home'"
   ]
  },
  {
   "cell_type": "code",
   "execution_count": 373,
   "metadata": {},
   "outputs": [
    {
     "output_type": "execute_result",
     "data": {
      "text/plain": [
       "1    6360\n",
       "2    6360\n",
       "3    3076\n",
       "Name: Leg, dtype: Int64"
      ]
     },
     "metadata": {},
     "execution_count": 373
    }
   ],
   "source": [
    "pd.value_counts(f19['Leg'])"
   ]
  },
  {
   "cell_type": "code",
   "execution_count": 375,
   "metadata": {},
   "outputs": [
    {
     "output_type": "execute_result",
     "data": {
      "text/plain": [
       "Unnamed: 0         int64\n",
       "Team              object\n",
       "Date              object\n",
       "Home/Away         object\n",
       "Leg_Code         float64\n",
       "Game              object\n",
       "3DA               object\n",
       "Player            object\n",
       "W/A               object\n",
       "Darts_Thrown       int64\n",
       "Points/Marks       int64\n",
       "Turn_Sequence      int64\n",
       "Match             object\n",
       "Season           float64\n",
       "TDA              float64\n",
       "Win                 bool\n",
       "Set                Int64\n",
       "Leg                Int64\n",
       "Cork                bool\n",
       "Cork/Start          bool\n",
       "Home                bool\n",
       "dtype: object"
      ]
     },
     "metadata": {},
     "execution_count": 375
    }
   ],
   "source": [
    "f19.infer_objects().dtypes"
   ]
  },
  {
   "cell_type": "code",
   "execution_count": 391,
   "metadata": {},
   "outputs": [],
   "source": [
    "lu = f19.groupby(['Season','Team','Set','Game'])['TDA'].mean()."
   ]
  },
  {
   "cell_type": "code",
   "execution_count": 392,
   "metadata": {},
   "outputs": [
    {
     "output_type": "execute_result",
     "data": {
      "text/plain": [
       "Season  Team         Set  Game    \n",
       "2019.3  140 Darts    1    501 SIDO    45.317739\n",
       "                     2    301 DIDO    29.486012\n",
       "                          501 SIDO    46.392152\n",
       "                          Cricket      2.133496\n",
       "                     3    301 DIDO    40.860907\n",
       "                          Cricket      2.901629\n",
       "                     4    301 DIDO    36.625000\n",
       "                          501 SIDO    46.571429\n",
       "                          Cricket      2.070106\n",
       "                     5    301 DIDO    31.998768\n",
       "                          501 SIDO    59.156143\n",
       "                          Cricket      2.616440\n",
       "                     6    301 DIDO    36.905723\n",
       "                          501 SIDO    49.850890\n",
       "                          Cricket      1.994175\n",
       "                     7    301 DIDO    32.079474\n",
       "                     8    Cricket      2.086859\n",
       "                     9    501 SIDO    48.117386\n",
       "        Adjustments  1    501 SIDO    30.742334\n",
       "                     2    301 DIDO    26.900116\n",
       "                          501 SIDO    39.266622\n",
       "                          Cricket      1.558047\n",
       "                     3    301 DIDO    22.595816\n",
       "                          501 SIDO    59.339286\n",
       "Name: TDA, dtype: float64"
      ]
     },
     "metadata": {},
     "execution_count": 392
    }
   ],
   "source": [
    "lu.head(24)"
   ]
  },
  {
   "cell_type": "code",
   "execution_count": null,
   "metadata": {},
   "outputs": [],
   "source": []
  }
 ]
}